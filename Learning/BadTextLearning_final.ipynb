{
 "cells": [
  {
   "cell_type": "code",
   "execution_count": 2,
   "metadata": {
    "collapsed": true
   },
   "outputs": [],
   "source": [
    "import pandas as pd\n",
    "import numpy as np\n",
    "from sklearn.cross_validation import train_test_split\n",
    "from sklearn.ensemble import RandomForestClassifier\n",
    "from sklearn.grid_search import GridSearchCV"
   ]
  },
  {
   "cell_type": "code",
   "execution_count": 3,
   "metadata": {
    "collapsed": true
   },
   "outputs": [],
   "source": [
    "from sklearn.metrics import classification_report\n",
    "from sklearn.metrics import recall_score\n",
    "from sklearn.metrics import precision_score\n",
    "from sklearn.metrics import f1_score, accuracy_score"
   ]
  },
  {
   "cell_type": "code",
   "execution_count": 4,
   "metadata": {
    "collapsed": false
   },
   "outputs": [
    {
     "data": {
      "text/html": [
       "<div>\n",
       "<table border=\"1\" class=\"dataframe\">\n",
       "  <thead>\n",
       "    <tr style=\"text-align: right;\">\n",
       "      <th></th>\n",
       "      <th>Article</th>\n",
       "      <th>Len</th>\n",
       "      <th>BadFreqs</th>\n",
       "      <th>Len1</th>\n",
       "      <th>Len2</th>\n",
       "      <th>Len3</th>\n",
       "      <th>Len4</th>\n",
       "      <th>Class</th>\n",
       "    </tr>\n",
       "  </thead>\n",
       "  <tbody>\n",
       "    <tr>\n",
       "      <th>0</th>\n",
       "      <td>#перенаправление Баскервилла</td>\n",
       "      <td>2</td>\n",
       "      <td>0</td>\n",
       "      <td>0</td>\n",
       "      <td>0</td>\n",
       "      <td>0</td>\n",
       "      <td>0</td>\n",
       "      <td>bad</td>\n",
       "    </tr>\n",
       "    <tr>\n",
       "      <th>1</th>\n",
       "      <td>'''Бифренария''' ( ) – Орхидной будосъёс (Orc...</td>\n",
       "      <td>81</td>\n",
       "      <td>7</td>\n",
       "      <td>0</td>\n",
       "      <td>1</td>\n",
       "      <td>1</td>\n",
       "      <td>0</td>\n",
       "      <td>bad</td>\n",
       "    </tr>\n",
       "    <tr>\n",
       "      <th>2</th>\n",
       "      <td>#перенаправление Бифренария</td>\n",
       "      <td>2</td>\n",
       "      <td>0</td>\n",
       "      <td>0</td>\n",
       "      <td>0</td>\n",
       "      <td>0</td>\n",
       "      <td>0</td>\n",
       "      <td>bad</td>\n",
       "    </tr>\n",
       "    <tr>\n",
       "      <th>3</th>\n",
       "      <td>'''Бинотия''' ( ) – Орхидной будосъёс (Orchid...</td>\n",
       "      <td>35</td>\n",
       "      <td>5</td>\n",
       "      <td>0</td>\n",
       "      <td>1</td>\n",
       "      <td>0</td>\n",
       "      <td>0</td>\n",
       "      <td>bad</td>\n",
       "    </tr>\n",
       "    <tr>\n",
       "      <th>4</th>\n",
       "      <td>#перенаправление Бинотия</td>\n",
       "      <td>2</td>\n",
       "      <td>0</td>\n",
       "      <td>0</td>\n",
       "      <td>0</td>\n",
       "      <td>0</td>\n",
       "      <td>0</td>\n",
       "      <td>bad</td>\n",
       "    </tr>\n",
       "    <tr>\n",
       "      <th>5</th>\n",
       "      <td>'''Бипиннула''' ( ) – Орхидной будосъёс (Orch...</td>\n",
       "      <td>131</td>\n",
       "      <td>5</td>\n",
       "      <td>0</td>\n",
       "      <td>1</td>\n",
       "      <td>0</td>\n",
       "      <td>0</td>\n",
       "      <td>bad</td>\n",
       "    </tr>\n",
       "    <tr>\n",
       "      <th>6</th>\n",
       "      <td>#перенаправление Бипиннула</td>\n",
       "      <td>2</td>\n",
       "      <td>0</td>\n",
       "      <td>0</td>\n",
       "      <td>0</td>\n",
       "      <td>0</td>\n",
       "      <td>0</td>\n",
       "      <td>bad</td>\n",
       "    </tr>\n",
       "    <tr>\n",
       "      <th>7</th>\n",
       "      <td>'''Блетия''' ( ) – Орхидной будосъёс (Orchida...</td>\n",
       "      <td>173</td>\n",
       "      <td>14</td>\n",
       "      <td>0</td>\n",
       "      <td>6</td>\n",
       "      <td>0</td>\n",
       "      <td>6</td>\n",
       "      <td>bad</td>\n",
       "    </tr>\n",
       "    <tr>\n",
       "      <th>8</th>\n",
       "      <td>#перенаправление Блетия</td>\n",
       "      <td>2</td>\n",
       "      <td>0</td>\n",
       "      <td>0</td>\n",
       "      <td>0</td>\n",
       "      <td>0</td>\n",
       "      <td>0</td>\n",
       "      <td>bad</td>\n",
       "    </tr>\n",
       "    <tr>\n",
       "      <th>9</th>\n",
       "      <td>'''Блетилла''' ( ) – Орхидной будосъёс (Orchi...</td>\n",
       "      <td>49</td>\n",
       "      <td>5</td>\n",
       "      <td>0</td>\n",
       "      <td>1</td>\n",
       "      <td>0</td>\n",
       "      <td>0</td>\n",
       "      <td>bad</td>\n",
       "    </tr>\n",
       "  </tbody>\n",
       "</table>\n",
       "</div>"
      ],
      "text/plain": [
       "                                             Article  Len  BadFreqs  Len1  \\\n",
       "0                      #перенаправление Баскервилла     2         0     0   \n",
       "1   '''Бифренария''' ( ) – Орхидной будосъёс (Orc...   81         7     0   \n",
       "2                       #перенаправление Бифренария     2         0     0   \n",
       "3   '''Бинотия''' ( ) – Орхидной будосъёс (Orchid...   35         5     0   \n",
       "4                          #перенаправление Бинотия     2         0     0   \n",
       "5   '''Бипиннула''' ( ) – Орхидной будосъёс (Orch...  131         5     0   \n",
       "6                        #перенаправление Бипиннула     2         0     0   \n",
       "7   '''Блетия''' ( ) – Орхидной будосъёс (Orchida...  173        14     0   \n",
       "8                           #перенаправление Блетия     2         0     0   \n",
       "9   '''Блетилла''' ( ) – Орхидной будосъёс (Orchi...   49         5     0   \n",
       "\n",
       "   Len2  Len3  Len4 Class  \n",
       "0     0     0     0   bad  \n",
       "1     1     1     0   bad  \n",
       "2     0     0     0   bad  \n",
       "3     1     0     0   bad  \n",
       "4     0     0     0   bad  \n",
       "5     1     0     0   bad  \n",
       "6     0     0     0   bad  \n",
       "7     6     0     6   bad  \n",
       "8     0     0     0   bad  \n",
       "9     1     0     0   bad  "
      ]
     },
     "execution_count": 4,
     "metadata": {},
     "output_type": "execute_result"
    }
   ],
   "source": [
    "# считываем данные\n",
    "df = pd.read_csv('article_data.csv', sep = '\\t')\n",
    "df.head(10)"
   ]
  },
  {
   "cell_type": "code",
   "execution_count": 5,
   "metadata": {
    "collapsed": false
   },
   "outputs": [
    {
     "name": "stdout",
     "output_type": "stream",
     "text": [
      "Доля объектов класса bad в обучающей выборке\n",
      "0.858890469417\n"
     ]
    }
   ],
   "source": [
    "# проверяем баланс классов\n",
    "print(('Доля объектов класса bad в обучающей выборке'))\n",
    "print((len(df[df.Class == 'bad']))/df.Class.count())\n",
    "# print((len(df[df.Class == 'good']))/df.Class.count())"
   ]
  },
  {
   "cell_type": "code",
   "execution_count": 6,
   "metadata": {
    "collapsed": false
   },
   "outputs": [
    {
     "name": "stdout",
     "output_type": "stream",
     "text": [
      "[[ 2  0  0  0  0]\n",
      " [81  7  1  1  0]\n",
      " [ 2  0  0  0  0]\n",
      " ..., \n",
      " [ 3  0  1  0  0]\n",
      " [47  0  0  0  0]\n",
      " [ 2  0  0  0  0]]\n"
     ]
    }
   ],
   "source": [
    "# признаки и целевая переменная\n",
    "y = df.Class\n",
    "X = np.column_stack((np.array(df.Len), np.array(df.BadFreqs), np.array(df.Len2), np.array(df.Len3), np.array(df.Len4)))\n",
    "print (X)"
   ]
  },
  {
   "cell_type": "code",
   "execution_count": 7,
   "metadata": {
    "collapsed": true
   },
   "outputs": [],
   "source": [
    "# перемешиваем и делим выборку на обучающую и тестовую\n",
    "X_train, X_test, y_train, y_test = train_test_split(X, y, test_size=0.2, random_state=42)"
   ]
  },
  {
   "cell_type": "code",
   "execution_count": 8,
   "metadata": {
    "collapsed": false
   },
   "outputs": [
    {
     "data": {
      "text/plain": [
       "GridSearchCV(cv=None, error_score='raise',\n",
       "       estimator=RandomForestClassifier(bootstrap=True, class_weight=None, criterion='gini',\n",
       "            max_depth=None, max_features='auto', max_leaf_nodes=None,\n",
       "            min_samples_leaf=1, min_samples_split=2,\n",
       "            min_weight_fraction_leaf=0.0, n_estimators=10, n_jobs=1,\n",
       "            oob_score=False, random_state=None, verbose=0,\n",
       "            warm_start=False),\n",
       "       fit_params={}, iid=True, n_jobs=1,\n",
       "       param_grid={'n_estimators': array([10, 11, ..., 98, 99])},\n",
       "       pre_dispatch='2*n_jobs', refit=True, scoring=None, verbose=0)"
      ]
     },
     "execution_count": 8,
     "metadata": {},
     "output_type": "execute_result"
    }
   ],
   "source": [
    "# обучаем решающий лес, параметр n_estimators подбирается с помощью класса GridSearchCV\n",
    "param_grid = {'n_estimators' : np.arange(10, 100)}\n",
    "frst = GridSearchCV(RandomForestClassifier(), param_grid)\n",
    "frst.fit(X_train, y_train)"
   ]
  },
  {
   "cell_type": "code",
   "execution_count": 58,
   "metadata": {
    "collapsed": false
   },
   "outputs": [
    {
     "name": "stdout",
     "output_type": "stream",
     "text": [
      "             precision    recall  f1-score   support\n",
      "\n",
      "        bad       0.98      0.96      0.97       605\n",
      "       good       0.78      0.86      0.82        98\n",
      "\n",
      "avg / total       0.95      0.95      0.95       703\n",
      "\n"
     ]
    }
   ],
   "source": [
    "# проверка обученного классификатора на тестовой выборке\n",
    "y_pred = frst.predict(X_test)\n",
    "target_names = ['bad', 'good']\n",
    "print(classification_report(y_test, y_pred, target_names=target_names)) "
   ]
  },
  {
   "cell_type": "code",
   "execution_count": 10,
   "metadata": {
    "collapsed": false
   },
   "outputs": [
    {
     "name": "stdout",
     "output_type": "stream",
     "text": [
      "Доля верных ответов классификатора:\n",
      "0.945945945946\n",
      "Доля плохих статей, определенных как хорошие:\n",
      "0.0396694214876\n",
      "Доля хороших статей, определенных как плохие:\n",
      "0.142857142857\n"
     ]
    }
   ],
   "source": [
    "print('Доля верных ответов классификатора:')\n",
    "print(frst.score(X_test, y_test))\n",
    "print('Доля плохих статей, определенных как хорошие:')\n",
    "print(1 - (recall_score(y_test, y_pred, pos_label = 'bad')))\n",
    "print('Доля хороших статей, определенных как плохие:')\n",
    "print(1 - (recall_score(y_test, y_pred, pos_label = 'good')))"
   ]
  },
  {
   "cell_type": "code",
   "execution_count": 11,
   "metadata": {
    "collapsed": false
   },
   "outputs": [
    {
     "name": "stdout",
     "output_type": "stream",
     "text": [
      "Доля верных ответов baseline-классификатора:\n",
      "0.778093883357\n",
      "Доля плохих статей, определенных как хорошие у baseline-классификатора:\n",
      "0.226446280992\n",
      "Доля хороших статей, определенных как плохие у baseline-классификатора:\n",
      "0.19387755102\n"
     ]
    }
   ],
   "source": [
    "# сравнение с baseline-классификатором по длине\n",
    "# все статьи короче 30 слов определяются как плохие\n",
    "y_pred_base = []\n",
    "for i in X_test[:, 0]:\n",
    "    if i >= 30:\n",
    "        y_pred_base.append('good')\n",
    "    else:\n",
    "        y_pred_base.append('bad')\n",
    "print('Доля верных ответов baseline-классификатора:')\n",
    "print (accuracy_score(y_test, y_pred_base))\n",
    "print('Доля плохих статей, определенных как хорошие у baseline-классификатора:')\n",
    "print(1 - (recall_score(y_test, y_pred_base, pos_label = 'bad')))\n",
    "print('Доля хороших статей, определенных как плохие у baseline-классификатора:')\n",
    "print(1 - (recall_score(y_test, y_pred_base, pos_label = 'good')))"
   ]
  },
  {
   "cell_type": "code",
   "execution_count": 12,
   "metadata": {
    "collapsed": false
   },
   "outputs": [
    {
     "name": "stdout",
     "output_type": "stream",
     "text": [
      "Len:  0.269830862195\n",
      "BadFreqs:  0.153682524756\n",
      "Len2:  0.196394899069\n",
      "Len3:  0.133767725605\n",
      "Len4:  0.246323988374\n"
     ]
    }
   ],
   "source": [
    "# чтобы проверить важность признаков, посмотрим на feature_importances_, чем больше этот параметр, тем важнее признак\n",
    "feature_names = ['Len', 'BadFreqs', 'Len2', 'Len3', 'Len4']\n",
    "for i in range(len(feature_names)):\n",
    "    print (feature_names[i]+':  '+str(frst.best_estimator_.feature_importances_[i]))"
   ]
  },
  {
   "cell_type": "code",
   "execution_count": 118,
   "metadata": {
    "collapsed": false
   },
   "outputs": [
    {
     "name": "stdout",
     "output_type": "stream",
     "text": [
      "Доля объектов класса bad в тестовой выборке\n",
      "0.678125\n",
      "320\n"
     ]
    }
   ],
   "source": [
    "# тест на данных мокшанского языка\n",
    "# проверяем баланс классов\n",
    "df2 = pd.read_csv('mdfwiki_data.csv', sep = '\\t')\n",
    "print(('Доля объектов класса bad в тестовой выборке'))\n",
    "print((len(df2[df2.Class == 'bad']))/df2.Class.count())\n",
    "y_test2 = np.array(df2.Class)\n",
    "X_test2 = np.column_stack((np.array(df2.Len), np.array(df2.BadFreqs), np.array(df2.Len2), np.array(df2.Len3), np.array(df2.Len4)))\n",
    "print (len(y_test2))"
   ]
  },
  {
   "cell_type": "code",
   "execution_count": 127,
   "metadata": {
    "collapsed": false
   },
   "outputs": [
    {
     "name": "stdout",
     "output_type": "stream",
     "text": [
      "             precision    recall  f1-score   support\n",
      "\n",
      "        bad       0.87      0.97      0.92       217\n",
      "       good       0.92      0.70      0.80       103\n",
      "\n",
      "avg / total       0.89      0.88      0.88       320\n",
      "\n"
     ]
    }
   ],
   "source": [
    "y_pred2 = frst.predict(X_test2)\n",
    "target_names = ['bad', 'good']\n",
    "print(classification_report(y_test2, y_pred2, target_names=target_names)) "
   ]
  },
  {
   "cell_type": "code",
   "execution_count": 120,
   "metadata": {
    "collapsed": false
   },
   "outputs": [
    {
     "name": "stdout",
     "output_type": "stream",
     "text": [
      "Доля верных ответов классификатора для мокшанского языка:\n",
      "0.884375\n",
      "Доля плохих статей, определенных как хорошие:\n",
      "0.0276497695853\n",
      "Доля хороших статей, определенных как плохие:\n",
      "0.300970873786\n"
     ]
    }
   ],
   "source": [
    "print('Доля верных ответов классификатора для мокшанского языка:')\n",
    "print(frst.score(X_test2, y_test2))\n",
    "print('Доля плохих статей, определенных как хорошие:')\n",
    "print(1 - (recall_score(y_test2, y_pred2, pos_label = 'bad')))\n",
    "print('Доля хороших статей, определенных как плохие:')\n",
    "print(1 - (recall_score(y_test2, y_pred2, pos_label = 'good')))"
   ]
  },
  {
   "cell_type": "code",
   "execution_count": 124,
   "metadata": {
    "collapsed": false
   },
   "outputs": [
    {
     "name": "stdout",
     "output_type": "stream",
     "text": [
      "Доля объектов класса bad в тестовой выборке\n",
      "0.675\n",
      "320\n"
     ]
    }
   ],
   "source": [
    "# тест на данных башкирского языка\n",
    "# проверяем баланс классов\n",
    "df3 = pd.read_csv('bawiki_data.csv', sep = '\\t')\n",
    "print(('Доля объектов класса bad в тестовой выборке'))\n",
    "print((len(df3[df3.Class == 'bad']))/df3.Class.count())\n",
    "y_test3 = np.array(df3.Class)\n",
    "X_test3 = np.column_stack((np.array(df3.Len), np.array(df3.BadFreqs), np.array(df3.Len2), np.array(df3.Len3), np.array(df3.Len4)))\n",
    "print (len(y_test3))"
   ]
  },
  {
   "cell_type": "code",
   "execution_count": 128,
   "metadata": {
    "collapsed": false
   },
   "outputs": [
    {
     "name": "stdout",
     "output_type": "stream",
     "text": [
      "             precision    recall  f1-score   support\n",
      "\n",
      "        bad       0.81      0.83      0.82       216\n",
      "       good       0.64      0.61      0.62       104\n",
      "\n",
      "avg / total       0.76      0.76      0.76       320\n",
      "\n"
     ]
    }
   ],
   "source": [
    "y_pred3 = frst.predict(X_test3)\n",
    "target_names = ['bad', 'good']\n",
    "print(classification_report(y_test3, y_pred3, target_names=target_names)) "
   ]
  },
  {
   "cell_type": "code",
   "execution_count": 126,
   "metadata": {
    "collapsed": false
   },
   "outputs": [
    {
     "name": "stdout",
     "output_type": "stream",
     "text": [
      "Доля верных ответов классификатора для башкирского языка:\n",
      "0.759375\n",
      "Доля плохих статей, определенных как хорошие:\n",
      "0.166666666667\n",
      "Доля хороших статей, определенных как плохие:\n",
      "0.394230769231\n"
     ]
    }
   ],
   "source": [
    "print('Доля верных ответов классификатора для башкирского языка:')\n",
    "print(frst.score(X_test3, y_test3))\n",
    "print('Доля плохих статей, определенных как хорошие:')\n",
    "print(1 - (recall_score(y_test3, y_pred3, pos_label = 'bad')))\n",
    "print('Доля хороших статей, определенных как плохие:')\n",
    "print(1 - (recall_score(y_test3, y_pred3, pos_label = 'good')))"
   ]
  }
 ],
 "metadata": {
  "kernelspec": {
   "display_name": "Python 3",
   "language": "python",
   "name": "python3"
  },
  "language_info": {
   "codemirror_mode": {
    "name": "ipython",
    "version": 3
   },
   "file_extension": ".py",
   "mimetype": "text/x-python",
   "name": "python",
   "nbconvert_exporter": "python",
   "pygments_lexer": "ipython3",
   "version": "3.5.1"
  }
 },
 "nbformat": 4,
 "nbformat_minor": 0
}
